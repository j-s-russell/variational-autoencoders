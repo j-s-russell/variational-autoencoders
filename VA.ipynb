{
  "nbformat": 4,
  "nbformat_minor": 0,
  "metadata": {
    "colab": {
      "provenance": [],
      "collapsed_sections": []
    },
    "kernelspec": {
      "name": "python3",
      "display_name": "Python 3"
    },
    "language_info": {
      "name": "python"
    }
  },
  "cells": [
    {
      "cell_type": "markdown",
      "source": [
        "# Variational Autoencoders\n",
        "\n",
        "The autoencoder is an extremely useful type of neural network due to its ability to learn important lower-dimensional representations of data. Its bottleneck architecture has been modified to create several other interesting types of networks for various problems, such as sparse autoencoders and denoising autoencoders. One of the most interesting variations is the variational autoencoder - an architecture designed for generative modeling. As autoencoders map their inputs onto a lower-dimensional latent space, Diederik Kingma and Max Welling had the idea to use this latent space and the decoder network to generate new samples. A traditional autoencoder maps its input onto a fixed vector of real numbers, so sampling from this latent space is unlikely to produce any meaningful content as this space is not regularized for generative processes. The defining feature of a variational autoencoder is that its input is mapped onto a distribution. When this latent distribution is properly regularized, the decoder network can take samples from it to produce novel examples. In this project, these examples will be the handwritten digits from the MNIST dataset."
      ],
      "metadata": {
        "id": "o1NInj6_bWJl"
      }
    },
    {
      "cell_type": "markdown",
      "source": [
        "## Importing Packages and Preprocessing Data"
      ],
      "metadata": {
        "id": "8pb-Jg1SPmR1"
      }
    },
    {
      "cell_type": "code",
      "source": [
        "import tensorflow as tf\n",
        "import numpy as np\n",
        "import matplotlib.pyplot as plt"
      ],
      "metadata": {
        "id": "VALkd_njQOtd"
      },
      "execution_count": null,
      "outputs": []
    },
    {
      "cell_type": "code",
      "source": [
        "(x_train, y_train), (x_val, y_val) = tf.keras.datasets.mnist.load_data(path='mnist.npz')\n",
        "x_train, x_val = x_train / 255.0, x_val / 255.0"
      ],
      "metadata": {
        "id": "qpNEJxGRSoVN",
        "colab": {
          "base_uri": "https://localhost:8080/"
        },
        "outputId": "734f7db2-24e7-478c-f34b-b12bfb28e142"
      },
      "execution_count": null,
      "outputs": [
        {
          "output_type": "stream",
          "name": "stdout",
          "text": [
            "Downloading data from https://storage.googleapis.com/tensorflow/tf-keras-datasets/mnist.npz\n",
            "11493376/11490434 [==============================] - 0s 0us/step\n",
            "11501568/11490434 [==============================] - 0s 0us/step\n"
          ]
        }
      ]
    },
    {
      "cell_type": "code",
      "source": [
        "x_train = np.reshape(x_train, [-1, 28, 28, 1])\n",
        "x_val = np.reshape(x_val, (-1, 28, 28, 1))\n",
        "print(x_train.shape, x_val.shape)"
      ],
      "metadata": {
        "colab": {
          "base_uri": "https://localhost:8080/"
        },
        "id": "LNFjkPh9Uaxn",
        "outputId": "76c25a53-0541-4938-a46a-e7af098f9939"
      },
      "execution_count": null,
      "outputs": [
        {
          "output_type": "stream",
          "name": "stdout",
          "text": [
            "(60000, 28, 28, 1) (10000, 28, 28, 1)\n"
          ]
        }
      ]
    },
    {
      "cell_type": "markdown",
      "source": [
        "## General Architecture\n",
        "\n",
        "Given an input $x$ and its latent representation $z$, the VAE is trained to map $x$ onto the latent distribution $P(z|x)$, from which a sample is taken and used to reconstruct the input by sampling from the distribution $P(x|z)$."
      ],
      "metadata": {
        "id": "m7uaTrIuWQ-3"
      }
    },
    {
      "cell_type": "markdown",
      "source": [
        "In a VAE, the bottleneck vector is replaced by two vectors - a mean vector and standard deviation vector representing the parameters of *P(z|x)*. The encoder takes an input *x*, maps it to these two vectors, and then outputs a sample from this latent distribution *z ~ P(z|x)*, which is then fed into the decoder. Given this sampled latent variable *z*, the decoder is trained to map *z* to back to *x*. Thus the encoder and decoder can be defined as *P(z|x)* and *P(x|z)* respectively."
      ],
      "metadata": {
        "id": "Yg9Wg6-cdzv3"
      }
    },
    {
      "cell_type": "markdown",
      "source": [
        "### Sampling\n",
        "\n",
        "Below is a function that samples from the latent distribution $P(z|x)$ to be used in generating the encoder's output. It's important to mention that if this network were to randomly from the mean and standard deviation vectors of the latent distribution, it would be impossible to perform backpropagation through this random layer. This function instead uses a reparameterization trick:"
      ],
      "metadata": {
        "id": "HmzCeg_cQNxc"
      }
    },
    {
      "cell_type": "markdown",
      "source": [
        "$$z = \\mu + \\epsilon(e^{\\sigma/2})$$"
      ],
      "metadata": {
        "id": "TKUFGd25ftXs"
      }
    },
    {
      "cell_type": "markdown",
      "source": [
        "where $\\mu$ and $\\sigma$ represent the mean and standard deviation of the latent variable $z$, and $\\epsilon$ represents random noise from a standard normal distribution. This way, a random sample of $z$ is produced, but the only stochastic variable is $\\epsilon$, so backpropagation can be ran through $\\mu$ and $\\sigma$."
      ],
      "metadata": {
        "id": "g5NM0KNGft10"
      }
    },
    {
      "cell_type": "code",
      "source": [
        "from keras import backend as K\n",
        "\n",
        "def sample(mu, sigma):\n",
        "    epsilon = K.random_normal(shape=(K.shape(mu)))\n",
        "    return mu + K.exp(0.5 * sigma) * epsilon"
      ],
      "metadata": {
        "id": "9gLJEi7DQVex"
      },
      "execution_count": null,
      "outputs": []
    },
    {
      "cell_type": "markdown",
      "source": [
        "### Encoder\n",
        " "
      ],
      "metadata": {
        "id": "haKwBwRiQXdR"
      }
    },
    {
      "cell_type": "code",
      "source": [
        "latent_dim = 12\n",
        "\n",
        "encoder_input = tf.keras.layers.Input(shape=(28, 28, 1),)\n",
        "\n",
        "hidden = tf.keras.layers.Conv2D(filters=16, kernel_size=3, activation='relu', padding='same', strides=2)(encoder_input)\n",
        "encoder_output = tf.keras.layers.Conv2D(filters=32, kernel_size=3, activation='relu', padding='same', strides=2)(hidden)\n",
        "shape = K.int_shape(encoder_output)\n",
        "\n",
        "hidden2 = tf.keras.layers.Flatten()(encoder_output)\n",
        "hidden2 = tf.keras.layers.Dense(16, activation='relu')(hidden2)\n",
        "z_mean = tf.keras.layers.Dense(latent_dim, name='z_mean')(hidden2)\n",
        "z_log_var = tf.keras.layers.Dense(latent_dim, name='z_log_var')(hidden2)\n",
        "z = sample(z_mean, z_log_var)\n",
        "\n",
        "encoder = tf.keras.Model(encoder_input, [z_mean, z_log_var, z], name='encoder')\n",
        "encoder.summary()"
      ],
      "metadata": {
        "colab": {
          "base_uri": "https://localhost:8080/"
        },
        "id": "FGN-MsMOQX09",
        "outputId": "f85655e1-5cfc-4b1a-b786-3d1a36910a96"
      },
      "execution_count": null,
      "outputs": [
        {
          "output_type": "stream",
          "name": "stdout",
          "text": [
            "Model: \"encoder\"\n",
            "__________________________________________________________________________________________________\n",
            " Layer (type)                   Output Shape         Param #     Connected to                     \n",
            "==================================================================================================\n",
            " input_1 (InputLayer)           [(None, 28, 28, 1)]  0           []                               \n",
            "                                                                                                  \n",
            " conv2d (Conv2D)                (None, 14, 14, 16)   160         ['input_1[0][0]']                \n",
            "                                                                                                  \n",
            " conv2d_1 (Conv2D)              (None, 7, 7, 32)     4640        ['conv2d[0][0]']                 \n",
            "                                                                                                  \n",
            " flatten (Flatten)              (None, 1568)         0           ['conv2d_1[0][0]']               \n",
            "                                                                                                  \n",
            " dense (Dense)                  (None, 16)           25104       ['flatten[0][0]']                \n",
            "                                                                                                  \n",
            " z_mean (Dense)                 (None, 12)           204         ['dense[0][0]']                  \n",
            "                                                                                                  \n",
            " z_log_var (Dense)              (None, 12)           204         ['dense[0][0]']                  \n",
            "                                                                                                  \n",
            " tf.math.multiply (TFOpLambda)  (None, 12)           0           ['z_log_var[0][0]']              \n",
            "                                                                                                  \n",
            " tf.compat.v1.shape (TFOpLambda  (2,)                0           ['z_mean[0][0]']                 \n",
            " )                                                                                                \n",
            "                                                                                                  \n",
            " tf.math.exp (TFOpLambda)       (None, 12)           0           ['tf.math.multiply[0][0]']       \n",
            "                                                                                                  \n",
            " tf.random.normal (TFOpLambda)  (None, 12)           0           ['tf.compat.v1.shape[0][0]']     \n",
            "                                                                                                  \n",
            " tf.math.multiply_1 (TFOpLambda  (None, 12)          0           ['tf.math.exp[0][0]',            \n",
            " )                                                                'tf.random.normal[0][0]']       \n",
            "                                                                                                  \n",
            " tf.__operators__.add (TFOpLamb  (None, 12)          0           ['z_mean[0][0]',                 \n",
            " da)                                                              'tf.math.multiply_1[0][0]']     \n",
            "                                                                                                  \n",
            "==================================================================================================\n",
            "Total params: 30,312\n",
            "Trainable params: 30,312\n",
            "Non-trainable params: 0\n",
            "__________________________________________________________________________________________________\n"
          ]
        }
      ]
    },
    {
      "cell_type": "markdown",
      "source": [
        "### Decoder"
      ],
      "metadata": {
        "id": "ROBOuA1fQYKN"
      }
    },
    {
      "cell_type": "code",
      "source": [
        "decoder_input = tf.keras.layers.Input(shape=(latent_dim,), name='z_sampling')\n",
        "hidden = tf.keras.layers.Dense(shape[1] * shape[2] * shape[3], activation='relu')(decoder_input)\n",
        "hidden = tf.keras.layers.Reshape((shape[1], shape[2], shape[3]))(hidden)\n",
        "\n",
        "hidden = tf.keras.layers.Conv2DTranspose(filters=16, kernel_size=3,activation='relu', padding='same', strides=2)(hidden)\n",
        "hidden = tf.keras.layers.Conv2DTranspose(filters=32, kernel_size=3,activation='relu', padding='same', strides=2)(hidden)\n",
        "decoder_output = tf.keras.layers.Conv2DTranspose(1, kernel_size=3, activation='relu', padding='same')(hidden)\n",
        "\n",
        "decoder = tf.keras.Model(decoder_input, decoder_output, name='decoder')\n",
        "decoder.summary()"
      ],
      "metadata": {
        "colab": {
          "base_uri": "https://localhost:8080/"
        },
        "id": "d8og6PRGQYim",
        "outputId": "6b13d5ab-7bb3-4caa-9ff2-4ab63861382c"
      },
      "execution_count": null,
      "outputs": [
        {
          "output_type": "stream",
          "name": "stdout",
          "text": [
            "Model: \"decoder\"\n",
            "_________________________________________________________________\n",
            " Layer (type)                Output Shape              Param #   \n",
            "=================================================================\n",
            " z_sampling (InputLayer)     [(None, 12)]              0         \n",
            "                                                                 \n",
            " dense_1 (Dense)             (None, 1568)              20384     \n",
            "                                                                 \n",
            " reshape (Reshape)           (None, 7, 7, 32)          0         \n",
            "                                                                 \n",
            " conv2d_transpose (Conv2DTra  (None, 14, 14, 16)       4624      \n",
            " nspose)                                                         \n",
            "                                                                 \n",
            " conv2d_transpose_1 (Conv2DT  (None, 28, 28, 32)       4640      \n",
            " ranspose)                                                       \n",
            "                                                                 \n",
            " conv2d_transpose_2 (Conv2DT  (None, 28, 28, 1)        289       \n",
            " ranspose)                                                       \n",
            "                                                                 \n",
            "=================================================================\n",
            "Total params: 29,937\n",
            "Trainable params: 29,937\n",
            "Non-trainable params: 0\n",
            "_________________________________________________________________\n"
          ]
        }
      ]
    },
    {
      "cell_type": "markdown",
      "source": [
        "## Construct the Variational Autoencoder\n",
        "\n",
        "After defining the encoder and decoder, we can construct the VAE by simply combining the two models:"
      ],
      "metadata": {
        "id": "F2jFTdEgQY5T"
      }
    },
    {
      "cell_type": "code",
      "source": [
        "vae_output = decoder(encoder(encoder_input)[2])\n",
        "vae = tf.keras.Model(encoder_input, vae_output, name='vae')"
      ],
      "metadata": {
        "id": "iHirkwvbQ0oT"
      },
      "execution_count": null,
      "outputs": []
    },
    {
      "cell_type": "markdown",
      "source": [
        "## Deriving the Loss Function - Variational Inference\n",
        "\n",
        "We can assume that $P(z)$ follows a standard normal distribution and that $P(x|z)$ follows a normal distribution. Since we're sampling $x$ from $z$, we can describe the mean of $P(x|z)$ as a function of $z$:"
      ],
      "metadata": {
        "id": "IoDqF2Lps3tg"
      }
    },
    {
      "cell_type": "markdown",
      "source": [
        "$$ P(z) \\sim \\mathcal{N}(0, I) $$"
      ],
      "metadata": {
        "id": "ePs5u8FIw8Gi"
      }
    },
    {
      "cell_type": "markdown",
      "source": [
        "$$P(x|z) \\sim \\mathcal{N}(f(z),cI)$$"
      ],
      "metadata": {
        "id": "TXKQC0LCwgxI"
      }
    },
    {
      "cell_type": "markdown",
      "source": [
        "$I$ in the above definitions represent the identity matrix, used to describe the distributions' covariances. The only remaining distribution of interest is the distribution given by the encoder, $P(z|x)$. However, $P(z|x)$ is often an intractable computation, so instead the VAE has to approximate it somehow. VAEs get their name from variational inference, the technique used to approximate this unknown distribution. The technique involves defining a family of distributions used to approximate this distribution. Once defined, the approximation is made by minimizing an error function that makes the approximated distribution as similar as possible to the target distribution."
      ],
      "metadata": {
        "id": "HRUsDFUbyhE1"
      }
    },
    {
      "cell_type": "markdown",
      "source": [
        "In practice, $P(z|x)$ is approximated by a normal distribution $Q_x(z)$, whose mean and covariance are represented by the functions $g(x)$ and $h(x)$:"
      ],
      "metadata": {
        "id": "DtSz1mkm_u9b"
      }
    },
    {
      "cell_type": "markdown",
      "source": [
        "$$ Q_x(z) \\sim \\mathcal{N}(g(x),h(x)) $$"
      ],
      "metadata": {
        "id": "Ma5nSVxNBSgq"
      }
    },
    {
      "cell_type": "markdown",
      "source": [
        "Now, the objective is to minimize the a measure of distance between $Q_x(z)$ and $P(z|x)$. In most cases of variational inference, this measure is the Kullback-Leibler Divergence, which is defined as:"
      ],
      "metadata": {
        "id": "Rycf9b4TCMGR"
      }
    },
    {
      "cell_type": "markdown",
      "source": [
        "$$ D_{KL}(Q||P) = \\int P(x)*\\log \\left (\\frac{Q(x)}{P(x)} \\right ) dx$$"
      ],
      "metadata": {
        "id": "mu8sapzmGyHP"
      }
    },
    {
      "cell_type": "markdown",
      "source": [
        "Given $Q_x(z)$ and $P(z|x)$, we have the following derivation:"
      ],
      "metadata": {
        "id": "M3nmM2FSLSEe"
      }
    },
    {
      "cell_type": "markdown",
      "source": [
        "$$ D_{KL}\\left (Q_x(z) || P(z|x) \\right ) = \\int Q_x(z)*\\log \\frac{Q_x(z)}{P(z|x)} dz$$\n",
        "\n",
        "$$ = \\int Q_x(z)*\\log \\frac{Q_x(z)P(x)}{P(z,x)} dz $$\n",
        "\n",
        "$$ = \\int Q_x(z)* \\left (\\log P(x) + \\log (\\frac{Q_x(z)}{P(z,x)} \\right ) dz $$\n",
        "\n",
        "$$ = \\log P(x) + \\int Q_x(z)*\\log \\frac{Q_x(z)}{P(z,x)}dz $$\n",
        "\n",
        "$$ = \\log P(x)+ \\int Q_x(z)*\\log \\frac{Q_x(z)}{P(x|z)P(z))} dz $$\n",
        "\n",
        "$$ = \\log P(x) - E_{z\\sim Q_x(z)}\\left (\\log P(x|z)\\right ) + \\int Q_x(z)*\\log \\frac{Q_x(z)}{P(z))} $$\n",
        "\n",
        "$$ = \\log P(x) - E_{z\\sim Q_x(z)}\\left (\\log P(x|z)\\right ) + D_{KL}\\left ( Q_x(z)||P(z)\\right )$$"
      ],
      "metadata": {
        "id": "6ViV6CoLLVwR"
      }
    },
    {
      "cell_type": "markdown",
      "source": [
        "Since we defined $P(x|z) \\sim \\mathcal{N}(f(z),cI)$, we can replace $\\log P(x|z)$ with $-\\frac{||x-f(z)||^2}{2c}$. We're trying to minimize this function with respect to $f(z)$, the mean of $P(x|z)$, and $g(x)$ and $h(x)$, the parameters of $Q_x(z)$. $\\log P(x)$ is fixed, so we can ignore that term - our function to minimize is then"
      ],
      "metadata": {
        "id": "r4jF_bRttBPI"
      }
    },
    {
      "cell_type": "markdown",
      "source": [
        "$$ D_{KL}\\left (Q_x(z) || P(z|x) \\right ) = E_{z\\sim Q_x(z)}\\left ( \\frac{||x-f(z)||^2}{2c}\\right ) + D_{KL}\\left ( Q_x(z)||P(z)\\right )$$"
      ],
      "metadata": {
        "id": "lJ8Qn7skVJ3V"
      }
    },
    {
      "cell_type": "markdown",
      "source": [
        "Interestingly, we can identify the first term on the right hand side as a form of the reconstruction cost. This term is minimized when the mean of $P(x|z)$, $f(z)$ is equal to $x$ - in other words, the decoder recreates the inputs $x$ most accurately when the average output of its sampling process is equivalent to the input itself. The second term is the KL Divergence between our approximation of our encoder's distribution, $P(z|x)$ and the standard normal latent space distribution $P(z)$. This can be thought of as the regularization term of the function which ensures that the distribution of our encoder's output is similar to the standard normal. This is important because when minimizing only the reconstruction cost, the VAE can overfit and learn like a traditional autoencoder - variances can be very small and means can vary significantly. Due to these issues sampling from the latent space distribution is not guaranteed to produce a meaningful output. Regularizing the encoder's distribution to be close to the standard normal ensures that means are all centered around 0 and standard deviations close to 1. This ensures a relatively smooth, complete, and continuous latent space where points are not too separated and nearby points have similar outputs."
      ],
      "metadata": {
        "id": "kJvR7b2vVefU"
      }
    },
    {
      "cell_type": "markdown",
      "source": [
        "## Defining the Loss Function\n",
        "\n",
        "In practice, the reconstruction cost of a VAE is expressed using either mean squared error or binary cross-entropy. In this case, we'll use binary cross-entropy:"
      ],
      "metadata": {
        "id": "U-2CE279Jlzz"
      }
    },
    {
      "cell_type": "code",
      "source": [
        "reconstruction_cost = tf.keras.losses.binary_crossentropy(K.flatten(encoder_input), K.flatten(vae_output))\n",
        "reconstruction_cost *= 784"
      ],
      "metadata": {
        "id": "EXeReYZrJnQa"
      },
      "execution_count": null,
      "outputs": []
    },
    {
      "cell_type": "markdown",
      "source": [
        "For the regularization term, there is a closed-form of the Kullback-Leibler Divergence that is a function of only our distribution's mean and variance:"
      ],
      "metadata": {
        "id": "imyTXMc1eFXU"
      }
    },
    {
      "cell_type": "markdown",
      "source": [
        "$$D_{KL}\\left (Q_x(z) || \\mathcal{N}(0,1) \\right ) = \\frac{1}{2}\\sum \\left (1 + \\log(\\sigma^2) - \\mu^2 - \\sigma^2 \\right)$$"
      ],
      "metadata": {
        "id": "9yr5TTzRej7R"
      }
    },
    {
      "cell_type": "code",
      "source": [
        "kl_loss = 1 + z_log_var - K.square(z_mean) - K.exp(z_log_var)\n",
        "kl_loss = K.sum(kl_loss, axis=-1)\n",
        "kl_loss *= -0.5"
      ],
      "metadata": {
        "id": "bNlCMa5MeFsV"
      },
      "execution_count": null,
      "outputs": []
    },
    {
      "cell_type": "markdown",
      "source": [
        "After defining the loss function, we add it to our model and compile the VAE:\n"
      ],
      "metadata": {
        "id": "-TehD4FYJpFj"
      }
    },
    {
      "cell_type": "code",
      "source": [
        "loss = K.mean(reconstruction_cost + kl_loss)\n",
        "\n",
        "vae.add_loss(loss)\n",
        "vae.compile(optimizer='adam')\n",
        "vae.summary()"
      ],
      "metadata": {
        "colab": {
          "base_uri": "https://localhost:8080/"
        },
        "id": "UnlCzXXVJs7v",
        "outputId": "15a95c0e-7802-4fc7-a7a7-b7da884452a4"
      },
      "execution_count": null,
      "outputs": [
        {
          "output_type": "stream",
          "name": "stdout",
          "text": [
            "Model: \"vae\"\n",
            "__________________________________________________________________________________________________\n",
            " Layer (type)                   Output Shape         Param #     Connected to                     \n",
            "==================================================================================================\n",
            " input_1 (InputLayer)           [(None, 28, 28, 1)]  0           []                               \n",
            "                                                                                                  \n",
            " encoder (Functional)           [(None, 12),         30312       ['input_1[0][0]']                \n",
            "                                 (None, 12),                                                      \n",
            "                                 (None, 12)]                                                      \n",
            "                                                                                                  \n",
            " decoder (Functional)           (None, 28, 28, 1)    29937       ['encoder[0][2]']                \n",
            "                                                                                                  \n",
            " conv2d (Conv2D)                (None, 14, 14, 16)   160         ['input_1[0][0]']                \n",
            "                                                                                                  \n",
            " conv2d_1 (Conv2D)              (None, 7, 7, 32)     4640        ['conv2d[0][0]']                 \n",
            "                                                                                                  \n",
            " flatten (Flatten)              (None, 1568)         0           ['conv2d_1[0][0]']               \n",
            "                                                                                                  \n",
            " dense (Dense)                  (None, 16)           25104       ['flatten[0][0]']                \n",
            "                                                                                                  \n",
            " z_log_var (Dense)              (None, 12)           204         ['dense[0][0]']                  \n",
            "                                                                                                  \n",
            " z_mean (Dense)                 (None, 12)           204         ['dense[0][0]']                  \n",
            "                                                                                                  \n",
            " tf.reshape (TFOpLambda)        (None,)              0           ['input_1[0][0]']                \n",
            "                                                                                                  \n",
            " tf.reshape_1 (TFOpLambda)      (None,)              0           ['decoder[0][0]']                \n",
            "                                                                                                  \n",
            " tf.__operators__.add_1 (TFOpLa  (None, 12)          0           ['z_log_var[0][0]']              \n",
            " mbda)                                                                                            \n",
            "                                                                                                  \n",
            " tf.math.square (TFOpLambda)    (None, 12)           0           ['z_mean[0][0]']                 \n",
            "                                                                                                  \n",
            " tf.cast (TFOpLambda)           (None,)              0           ['tf.reshape[0][0]']             \n",
            "                                                                                                  \n",
            " tf.convert_to_tensor (TFOpLamb  (None,)             0           ['tf.reshape_1[0][0]']           \n",
            " da)                                                                                              \n",
            "                                                                                                  \n",
            " tf.math.subtract (TFOpLambda)  (None, 12)           0           ['tf.__operators__.add_1[0][0]', \n",
            "                                                                  'tf.math.square[0][0]']         \n",
            "                                                                                                  \n",
            " tf.math.exp_1 (TFOpLambda)     (None, 12)           0           ['z_log_var[0][0]']              \n",
            "                                                                                                  \n",
            " tf.keras.backend.binary_crosse  (None,)             0           ['tf.cast[0][0]',                \n",
            " ntropy (TFOpLambda)                                              'tf.convert_to_tensor[0][0]']   \n",
            "                                                                                                  \n",
            " tf.math.subtract_1 (TFOpLambda  (None, 12)          0           ['tf.math.subtract[0][0]',       \n",
            " )                                                                'tf.math.exp_1[0][0]']          \n",
            "                                                                                                  \n",
            " tf.math.reduce_mean (TFOpLambd  ()                  0           ['tf.keras.backend.binary_crossen\n",
            " a)                                                              tropy[0][0]']                    \n",
            "                                                                                                  \n",
            " tf.math.reduce_sum (TFOpLambda  (None,)             0           ['tf.math.subtract_1[0][0]']     \n",
            " )                                                                                                \n",
            "                                                                                                  \n",
            " tf.math.multiply_2 (TFOpLambda  ()                  0           ['tf.math.reduce_mean[0][0]']    \n",
            " )                                                                                                \n",
            "                                                                                                  \n",
            " tf.math.multiply_3 (TFOpLambda  (None,)             0           ['tf.math.reduce_sum[0][0]']     \n",
            " )                                                                                                \n",
            "                                                                                                  \n",
            " tf.__operators__.add_2 (TFOpLa  (None,)             0           ['tf.math.multiply_2[0][0]',     \n",
            " mbda)                                                            'tf.math.multiply_3[0][0]']     \n",
            "                                                                                                  \n",
            " tf.math.reduce_mean_1 (TFOpLam  ()                  0           ['tf.__operators__.add_2[0][0]'] \n",
            " bda)                                                                                             \n",
            "                                                                                                  \n",
            " add_loss (AddLoss)             ()                   0           ['tf.math.reduce_mean_1[0][0]']  \n",
            "                                                                                                  \n",
            "==================================================================================================\n",
            "Total params: 60,249\n",
            "Trainable params: 60,249\n",
            "Non-trainable params: 0\n",
            "__________________________________________________________________________________________________\n"
          ]
        }
      ]
    },
    {
      "cell_type": "markdown",
      "source": [
        "## Model Training"
      ],
      "metadata": {
        "id": "0HLdSWoyQ1y6"
      }
    },
    {
      "cell_type": "code",
      "source": [
        "vae.fit(x_train, epochs = 15, batch_size = 128, shuffle = True, validation_data = (x_val,None))"
      ],
      "metadata": {
        "colab": {
          "base_uri": "https://localhost:8080/"
        },
        "id": "zUsk5sQHQ2Fl",
        "outputId": "d787edab-6321-428e-ff91-da13c232bdc5"
      },
      "execution_count": null,
      "outputs": [
        {
          "output_type": "stream",
          "name": "stdout",
          "text": [
            "Epoch 1/15\n",
            "469/469 [==============================] - 62s 129ms/step - loss: 204.1629 - val_loss: 154.8271\n",
            "Epoch 2/15\n",
            "469/469 [==============================] - 61s 131ms/step - loss: 152.0452 - val_loss: 142.1706\n",
            "Epoch 3/15\n",
            "469/469 [==============================] - 59s 127ms/step - loss: 145.3740 - val_loss: 139.0027\n",
            "Epoch 4/15\n",
            "469/469 [==============================] - 60s 127ms/step - loss: 143.1444 - val_loss: 139.6306\n",
            "Epoch 5/15\n",
            "469/469 [==============================] - 59s 126ms/step - loss: 149.2629 - val_loss: 147.1347\n",
            "Epoch 6/15\n",
            "469/469 [==============================] - 60s 127ms/step - loss: 138.9909 - val_loss: 134.4212\n",
            "Epoch 7/15\n",
            "469/469 [==============================] - 59s 126ms/step - loss: 146.2814 - val_loss: 139.5435\n",
            "Epoch 8/15\n",
            "469/469 [==============================] - 59s 125ms/step - loss: 140.5928 - val_loss: 134.8914\n",
            "Epoch 9/15\n",
            "469/469 [==============================] - 59s 125ms/step - loss: 134.2273 - val_loss: 140.6591\n",
            "Epoch 10/15\n",
            "469/469 [==============================] - 59s 125ms/step - loss: 140.5667 - val_loss: 137.1107\n",
            "Epoch 11/15\n",
            "469/469 [==============================] - 58s 125ms/step - loss: 132.2053 - val_loss: 128.2392\n",
            "Epoch 12/15\n",
            "469/469 [==============================] - 60s 127ms/step - loss: 131.7969 - val_loss: 135.2667\n",
            "Epoch 13/15\n",
            "469/469 [==============================] - 61s 130ms/step - loss: 129.4612 - val_loss: 132.1374\n",
            "Epoch 14/15\n",
            "469/469 [==============================] - 61s 130ms/step - loss: 131.9190 - val_loss: 248.0061\n",
            "Epoch 15/15\n",
            "469/469 [==============================] - 61s 130ms/step - loss: 149.2450 - val_loss: 134.1239\n"
          ]
        },
        {
          "output_type": "execute_result",
          "data": {
            "text/plain": [
              "<keras.callbacks.History at 0x7f84f916d4d0>"
            ]
          },
          "metadata": {},
          "execution_count": 11
        }
      ]
    },
    {
      "cell_type": "markdown",
      "source": [
        "## Image Generation\n",
        "\n",
        "After training the VAE, we can use the decoder to replicate the handwriten digits of the MNIST dataset:"
      ],
      "metadata": {
        "id": "kPkiVmJ_Q9yz"
      }
    },
    {
      "cell_type": "code",
      "source": [
        "z_mean, _, _ = encoder.predict(x_val)\n",
        "decoded_imgs = decoder.predict(z_mean)\n",
        "\n",
        "n = 10\n",
        "plt.figure(figsize=(20, 4))\n",
        "for i in range(10):\n",
        "\tplt.gray()\n",
        "\tax = plt.subplot(2, n, i+1)\n",
        "\tplt.imshow(x_val[i].reshape(28, 28))\n",
        "\tax.get_xaxis().set_visible(False)\n",
        "\tax.get_yaxis().set_visible(False)\n",
        "\t\n",
        "\tax = plt.subplot(2, n, i +1+n)\n",
        "\tplt.imshow(decoded_imgs[i].reshape(28, 28))\n",
        "\tax.get_xaxis().set_visible(False)\n",
        "\tax.get_yaxis().set_visible(False)\n",
        "plt.show()"
      ],
      "metadata": {
        "colab": {
          "base_uri": "https://localhost:8080/",
          "height": 248
        },
        "id": "m_RmS7GHQ-uO",
        "outputId": "f8026d70-2359-4e77-8d68-7596f52c82ac"
      },
      "execution_count": null,
      "outputs": [
        {
          "output_type": "display_data",
          "data": {
            "text/plain": [
              "<Figure size 1440x288 with 20 Axes>"
            ],
            "image/png": "[encoded data removed]"
          },
          "metadata": {
            "needs_background": "light"
          }
        }
      ]
    },
    {
      "cell_type": "markdown",
      "source": [
        "## Conclusion\n",
        "\n",
        "With a 12-dimensional latent space, the generated images are somewhat blurry, but are decently recognizable. Well-designed variational autoencoders can produce highly impressive results across a wide variety of inputs, which serve as an inspiration for the potential of deep generative modeling. Another important and very interesting generative framework is the Generative Adversarial Network introduced by Ian Goodfellow in 2014, which overcomes many of the shortcomings of VAEs and can generate images virtually indistinguishable from real examples. From image generation to data augmentation, this field has some of the most exciting applications in all of machine learning and is bound to produce spectacular findings in the near future."
      ],
      "metadata": {
        "id": "y5MvylzPRDnG"
      }
    }
  ]
}